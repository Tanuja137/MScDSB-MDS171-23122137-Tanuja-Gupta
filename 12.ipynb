{
 "cells": [
  {
   "cell_type": "code",
   "execution_count": 1,
   "metadata": {},
   "outputs": [
    {
     "name": "stdout",
     "output_type": "stream",
     "text": [
      "Three\n"
     ]
    }
   ],
   "source": [
    "a=3\n",
    "if a==3:\n",
    "    print(\"Three\")\n",
    "elif a==1:\n",
    "    print(\"one\")\n",
    "else:\n",
    "    print(\"nothing\")\n",
    "    "
   ]
  },
  {
   "cell_type": "code",
   "execution_count": 4,
   "metadata": {},
   "outputs": [
    {
     "name": "stdout",
     "output_type": "stream",
     "text": [
      "Monday\n"
     ]
    }
   ],
   "source": [
    "week=int(input(\"Enter the week no\"))\n",
    "if week==1:\n",
    "    print(\"Sunday\")\n",
    "elif week==2:\n",
    "    print(\"Monday\")\n",
    "elif week==3:\n",
    "    print(\"Tuesday\")\n",
    "elif week==4:\n",
    "    print(\"Wednesday\")\n",
    "elif week==5:\n",
    "    print(\"Thursday\")\n",
    "elif week==6:\n",
    "    print(\"Friday\")\n",
    "elif week==7:\n",
    "    print(\"Saturday\")\n",
    "else:\n",
    "    print(\"Not Valid\")"
   ]
  },
  {
   "cell_type": "code",
   "execution_count": 5,
   "metadata": {},
   "outputs": [
    {
     "data": {
      "text/plain": [
       "'a'"
      ]
     },
     "execution_count": 5,
     "metadata": {},
     "output_type": "execute_result"
    }
   ],
   "source": [
    "msg=\"Tanu\"\n",
    "msg[1]\n"
   ]
  },
  {
   "cell_type": "code",
   "execution_count": 12,
   "metadata": {},
   "outputs": [
    {
     "name": "stdout",
     "output_type": "stream",
     "text": [
      "0\n",
      "1\n",
      "2\n",
      "3\n",
      "4\n",
      "5\n",
      "6\n",
      "7\n",
      "8\n",
      "9\n",
      "10\n",
      "11\n",
      "12\n"
     ]
    }
   ],
   "source": [
    "msg=\"I am a donkey\"\n",
    "for i in range(len(msg)):\n",
    "    print(i)\n"
   ]
  },
  {
   "cell_type": "code",
   "execution_count": 23,
   "metadata": {},
   "outputs": [
    {
     "name": "stdout",
     "output_type": "stream",
     "text": [
      "I AM A DONKEY\n",
      "i am a donkey\n",
      "i AM A DONKEY\n",
      "13\n",
      "13\n"
     ]
    }
   ],
   "source": [
    "msg=\"I am a donkey\"\n",
    "print(msg.upper())\n",
    "print(msg.lower())\n",
    "print(msg.swapcase())\n",
    "print(len(msg))\n",
    "print(len(msg.strip()))\n"
   ]
  },
  {
   "cell_type": "code",
   "execution_count": 32,
   "metadata": {},
   "outputs": [
    {
     "name": "stdout",
     "output_type": "stream",
     "text": [
      "26\n"
     ]
    }
   ],
   "source": [
    "numbers=(2,4,5,6,9)\n",
    "s=0\n",
    "for i in numbers:\n",
    "    s+=i\n",
    "print(s)"
   ]
  },
  {
   "cell_type": "code",
   "execution_count": 30,
   "metadata": {},
   "outputs": [
    {
     "name": "stdout",
     "output_type": "stream",
     "text": [
      "T\n",
      "a\n",
      "n\n",
      "u\n",
      "j\n",
      "a\n"
     ]
    }
   ],
   "source": [
    "msg=\"Tanuja\"\n",
    "for item in msg:\n",
    "    print(item)"
   ]
  },
  {
   "cell_type": "code",
   "execution_count": 36,
   "metadata": {},
   "outputs": [
    {
     "name": "stdout",
     "output_type": "stream",
     "text": [
      "['2', '3', '4', '7']\n",
      "16\n"
     ]
    }
   ],
   "source": [
    "numbers=\"2,3,4,7\"\n",
    "nos = numbers.split(',')\n",
    "s=0\n",
    "print(nos)\n",
    "for item in nos:\n",
    "    temp=int(item)\n",
    "    s=s+temp\n",
    "print(s)\n",
    "    "
   ]
  },
  {
   "cell_type": "code",
   "execution_count": 37,
   "metadata": {},
   "outputs": [
    {
     "name": "stdout",
     "output_type": "stream",
     "text": [
      "Your name is tanu and you are from msds\n"
     ]
    }
   ],
   "source": [
    "name=input(\"Name:\")\n",
    "u_class=input(\"Class:\")\n",
    "print(\"Your name is {} and you are from {}\".format(name,u_class))"
   ]
  },
  {
   "cell_type": "code",
   "execution_count": 38,
   "metadata": {},
   "outputs": [
    {
     "name": "stdout",
     "output_type": "stream",
     "text": [
      "0\n",
      "2\n",
      "4\n",
      "6\n",
      "8\n",
      "10\n",
      "Sum= 30\n"
     ]
    }
   ],
   "source": [
    "n=int(input(\"enter the  number:\"))\n",
    "s=0\n",
    "for i in range(0,n,2):\n",
    "    print(i)\n",
    "    s=s+i\n",
    "print(\"Sum=\",s)"
   ]
  },
  {
   "cell_type": "code",
   "execution_count": 41,
   "metadata": {},
   "outputs": [
    {
     "name": "stdout",
     "output_type": "stream",
     "text": [
      "2.9\n"
     ]
    }
   ],
   "source": [
    "list=(\"hello\",2,2.9)\n",
    "print(list[2])"
   ]
  },
  {
   "cell_type": "code",
   "execution_count": 1,
   "metadata": {},
   "outputs": [
    {
     "name": "stdout",
     "output_type": "stream",
     "text": [
      "0 0\n",
      "1 1\n",
      "2 4\n",
      "3 9\n",
      "4 16\n",
      "5 25\n",
      "6 36\n"
     ]
    }
   ],
   "source": [
    "a=0\n",
    "while a<7:\n",
    "    res = a*a\n",
    "    print(a,res)\n",
    "    a=a+1    \n",
    "\n"
   ]
  },
  {
   "cell_type": "code",
   "execution_count": 2,
   "metadata": {},
   "outputs": [
    {
     "name": "stdout",
     "output_type": "stream",
     "text": [
      "1\n",
      "2\n",
      "3\n",
      "4\n",
      "5\n",
      "6\n"
     ]
    }
   ],
   "source": [
    "#break and continue\n",
    "for i in range(1,10,1):\n",
    "    if i==7:\n",
    "        break\n",
    "    print(i)\n",
    "    \n"
   ]
  },
  {
   "cell_type": "code",
   "execution_count": 5,
   "metadata": {},
   "outputs": [
    {
     "name": "stdout",
     "output_type": "stream",
     "text": [
      "1\n",
      "2\n",
      "3\n",
      "4\n",
      "5\n",
      "6\n",
      "7\n"
     ]
    }
   ],
   "source": [
    "for i in range(1,10,1):\n",
    "    if i==8:\n",
    "        break\n",
    "    print(i)"
   ]
  },
  {
   "cell_type": "code",
   "execution_count": 8,
   "metadata": {},
   "outputs": [
    {
     "name": "stdout",
     "output_type": "stream",
     "text": [
      "['ABC', 'UJK', 'IOP', 'ABC', 'KIM', 'UKL']\n",
      "{'red', 'tre', 'ret'}\n",
      "['red', 'tre', 'ret']\n",
      "<class 'list'>\n",
      "<class 'set'>\n",
      "<class 'list'>\n"
     ]
    }
   ],
   "source": [
    "list_ex=[\"ABC\",\"UJK\",\"IOP\",\"ABC\",\"KIM\",\"UKL\"]\n",
    "set_ex={\"red\",\"ret\",\"tre\",\"red\"}\n",
    "back=list(set_ex)\n",
    "print(list_ex)\n",
    "print(set_ex)\n",
    "print(back)\n",
    "print(type(list_ex))\n",
    "print(type(set_ex))\n",
    "print(type(back))"
   ]
  },
  {
   "cell_type": "markdown",
   "metadata": {},
   "source": [
    "Create a list of 10 names that are random and repeating from user identify the  unique items and their count"
   ]
  },
  {
   "cell_type": "code",
   "execution_count": 16,
   "metadata": {},
   "outputs": [
    {
     "name": "stdout",
     "output_type": "stream",
     "text": [
      "['SWAS', 'SWAS', 'TANU', 'TANU', 'ADI', 'ADI', 'SELI', 'KING', 'LINGU', 'TANU']\n",
      "SWAS 2\n",
      "LINGU 1\n",
      "SELI 1\n",
      "KING 1\n",
      "TANU 3\n",
      "ADI 2\n"
     ]
    }
   ],
   "source": [
    "names= []\n",
    "for i in range(0,10,1):\n",
    "    name=input(\"Enter the name:\")\n",
    "    name=name.strip()\n",
    "    name=name.upper()\n",
    "    names.append(name)\n",
    "print(names)\n",
    "unique_names=set(names)\n",
    "for search in unique_names:\n",
    "    count=0\n",
    "    for item in names:\n",
    "        if search==item:\n",
    "            count=count+1\n",
    "    print(search,count)\n",
    "\n"
   ]
  },
  {
   "cell_type": "code",
   "execution_count": 1,
   "metadata": {},
   "outputs": [],
   "source": [
    "my_dict={'vivo':'Tanuja','moto':'Kingsuk','iphone':'Lingesh'}"
   ]
  },
  {
   "cell_type": "code",
   "execution_count": 2,
   "metadata": {},
   "outputs": [
    {
     "name": "stdout",
     "output_type": "stream",
     "text": [
      "Kingsuk\n"
     ]
    }
   ],
   "source": [
    "print(my_dict['moto'])"
   ]
  },
  {
   "cell_type": "code",
   "execution_count": 3,
   "metadata": {},
   "outputs": [],
   "source": [
    "my_dict['iphone']='Selina'"
   ]
  },
  {
   "cell_type": "code",
   "execution_count": 4,
   "metadata": {},
   "outputs": [
    {
     "name": "stdout",
     "output_type": "stream",
     "text": [
      "Selina\n"
     ]
    }
   ],
   "source": [
    "print(my_dict['iphone'])"
   ]
  },
  {
   "cell_type": "code",
   "execution_count": 5,
   "metadata": {},
   "outputs": [
    {
     "name": "stdout",
     "output_type": "stream",
     "text": [
      "{'vivo': 'Tanuja', 'moto': 'Kingsuk', 'iphone': 'Selina'}\n"
     ]
    }
   ],
   "source": [
    "print(my_dict)"
   ]
  },
  {
   "cell_type": "code",
   "execution_count": 6,
   "metadata": {},
   "outputs": [
    {
     "name": "stdout",
     "output_type": "stream",
     "text": [
      "{'vivo': 'Tanuja', 'moto': 'Kingsuk', 'iphone': 'Selina', 'oneplus': 'Falak'}\n"
     ]
    }
   ],
   "source": [
    "my_dict['oneplus']='Falak'\n",
    "print(my_dict)"
   ]
  },
  {
   "cell_type": "code",
   "execution_count": 7,
   "metadata": {},
   "outputs": [
    {
     "data": {
      "text/plain": [
       "dict_keys(['vivo', 'moto', 'iphone', 'oneplus'])"
      ]
     },
     "execution_count": 7,
     "metadata": {},
     "output_type": "execute_result"
    }
   ],
   "source": [
    "my_dict.keys()"
   ]
  },
  {
   "cell_type": "code",
   "execution_count": 9,
   "metadata": {},
   "outputs": [
    {
     "name": "stdout",
     "output_type": "stream",
     "text": [
      "dict_keys(['vivo', 'moto', 'iphone', 'oneplus'])\n",
      "vivo\n",
      "moto\n",
      "iphone\n",
      "oneplus\n"
     ]
    }
   ],
   "source": [
    "print(my_dict.keys())\n",
    "for key in my_dict.keys():\n",
    "    print(key)\n"
   ]
  },
  {
   "cell_type": "code",
   "execution_count": 10,
   "metadata": {},
   "outputs": [
    {
     "name": "stdout",
     "output_type": "stream",
     "text": [
      "Selina\n",
      "Kingsuk\n",
      "Tanuja\n",
      "Lingesh\n",
      "Swastik\n",
      "Dhruv\n"
     ]
    }
   ],
   "source": [
    "students={\n",
    "    'Names':['Selina','Kingsuk','Tanuja','Lingesh','Swastik','Dhruv'],\n",
    "    'Rollno':['1','2','3','4','5','6']\n",
    "}\n",
    "for name in students['Names']:\n",
    "    print(name)"
   ]
  },
  {
   "cell_type": "code",
   "execution_count": 16,
   "metadata": {},
   "outputs": [
    {
     "name": "stdout",
     "output_type": "stream",
     "text": [
      "Tanuja\n"
     ]
    }
   ],
   "source": [
    "print(students['Names'][2])"
   ]
  },
  {
   "cell_type": "code",
   "execution_count": 17,
   "metadata": {},
   "outputs": [
    {
     "data": {
      "text/plain": [
       "'Tanuja'"
      ]
     },
     "execution_count": 17,
     "metadata": {},
     "output_type": "execute_result"
    }
   ],
   "source": [
    "students['Names'][2]"
   ]
  },
  {
   "cell_type": "code",
   "execution_count": 19,
   "metadata": {},
   "outputs": [
    {
     "name": "stdout",
     "output_type": "stream",
     "text": [
      "Stuty\n"
     ]
    }
   ],
   "source": [
    "mscds=[\n",
    "    {\n",
    "        'Roll no':1,\n",
    "        'Name':'Aditya',\n",
    "        'Hobby':'Basketball'\n",
    "    },\n",
    "    {\n",
    "        'Roll no':2,\n",
    "        'Name':'Stuty',\n",
    "        'Hobby':'Badminton'\n",
    "    },\n",
    "    {\n",
    "        'Roll no':3,\n",
    "        'Name':'Debo',\n",
    "        'Hobby':'Singing'\n",
    "    }\n",
    "]\n",
    "print(mscds[1]['Name'])"
   ]
  },
  {
   "cell_type": "code",
   "execution_count": 20,
   "metadata": {},
   "outputs": [
    {
     "name": "stdout",
     "output_type": "stream",
     "text": [
      "{'Roll no': 1, 'Name': 'Aditya', 'Hobby': 'Basketball'}\n",
      "1\tAditya\tBasketball\t\n",
      "{'Roll no': 2, 'Name': 'Stuty', 'Hobby': 'Badminton'}\n",
      "2\tStuty\tBadminton\t\n",
      "{'Roll no': 3, 'Name': 'Debo', 'Hobby': 'Singing'}\n",
      "3\tDebo\tSinging\t\n"
     ]
    }
   ],
   "source": [
    "for students in mscds:\n",
    "    print(students)\n",
    "    for key in students.keys():\n",
    "        print(students[key],end='\\t')\n",
    "    print()"
   ]
  },
  {
   "cell_type": "code",
   "execution_count": null,
   "metadata": {},
   "outputs": [],
   "source": []
  }
 ],
 "metadata": {
  "kernelspec": {
   "display_name": "Python 3",
   "language": "python",
   "name": "python3"
  },
  "language_info": {
   "codemirror_mode": {
    "name": "ipython",
    "version": 3
   },
   "file_extension": ".py",
   "mimetype": "text/x-python",
   "name": "python",
   "nbconvert_exporter": "python",
   "pygments_lexer": "ipython3",
   "version": "3.11.4"
  },
  "orig_nbformat": 4
 },
 "nbformat": 4,
 "nbformat_minor": 2
}
