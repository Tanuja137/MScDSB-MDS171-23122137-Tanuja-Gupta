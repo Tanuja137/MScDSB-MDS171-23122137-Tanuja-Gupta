{
 "cells": [
  {
   "cell_type": "code",
   "execution_count": 1,
   "metadata": {},
   "outputs": [
    {
     "name": "stdout",
     "output_type": "stream",
     "text": [
      "Three\n"
     ]
    }
   ],
   "source": [
    "a=3\n",
    "if a==3:\n",
    "    print(\"Three\")\n",
    "elif a==1:\n",
    "    print(\"one\")\n",
    "else:\n",
    "    print(\"nothing\")\n",
    "    "
   ]
  },
  {
   "cell_type": "code",
   "execution_count": 4,
   "metadata": {},
   "outputs": [
    {
     "name": "stdout",
     "output_type": "stream",
     "text": [
      "Monday\n"
     ]
    }
   ],
   "source": [
    "week=int(input(\"Enter the week no\"))\n",
    "if week==1:\n",
    "    print(\"Sunday\")\n",
    "elif week==2:\n",
    "    print(\"Monday\")\n",
    "elif week==3:\n",
    "    print(\"Tuesday\")\n",
    "elif week==4:\n",
    "    print(\"Wednesday\")\n",
    "elif week==5:\n",
    "    print(\"Thursday\")\n",
    "elif week==6:\n",
    "    print(\"Friday\")\n",
    "elif week==7:\n",
    "    print(\"Saturday\")\n",
    "else:\n",
    "    print(\"Not Valid\")"
   ]
  },
  {
   "cell_type": "code",
   "execution_count": 5,
   "metadata": {},
   "outputs": [
    {
     "data": {
      "text/plain": [
       "'a'"
      ]
     },
     "execution_count": 5,
     "metadata": {},
     "output_type": "execute_result"
    }
   ],
   "source": [
    "msg=\"Tanu\"\n",
    "msg[1]\n"
   ]
  },
  {
   "cell_type": "code",
   "execution_count": 12,
   "metadata": {},
   "outputs": [
    {
     "name": "stdout",
     "output_type": "stream",
     "text": [
      "0\n",
      "1\n",
      "2\n",
      "3\n",
      "4\n",
      "5\n",
      "6\n",
      "7\n",
      "8\n",
      "9\n",
      "10\n",
      "11\n",
      "12\n"
     ]
    }
   ],
   "source": [
    "msg=\"I am a donkey\"\n",
    "for i in range(len(msg)):\n",
    "    print(i)\n"
   ]
  },
  {
   "cell_type": "code",
   "execution_count": 23,
   "metadata": {},
   "outputs": [
    {
     "name": "stdout",
     "output_type": "stream",
     "text": [
      "I AM A DONKEY\n",
      "i am a donkey\n",
      "i AM A DONKEY\n",
      "13\n",
      "13\n"
     ]
    }
   ],
   "source": [
    "msg=\"I am a donkey\"\n",
    "print(msg.upper())\n",
    "print(msg.lower())\n",
    "print(msg.swapcase())\n",
    "print(len(msg))\n",
    "print(len(msg.strip()))\n"
   ]
  },
  {
   "cell_type": "code",
   "execution_count": 32,
   "metadata": {},
   "outputs": [
    {
     "name": "stdout",
     "output_type": "stream",
     "text": [
      "26\n"
     ]
    }
   ],
   "source": [
    "numbers=(2,4,5,6,9)\n",
    "s=0\n",
    "for i in numbers:\n",
    "    s+=i\n",
    "print(s)"
   ]
  },
  {
   "cell_type": "code",
   "execution_count": 30,
   "metadata": {},
   "outputs": [
    {
     "name": "stdout",
     "output_type": "stream",
     "text": [
      "T\n",
      "a\n",
      "n\n",
      "u\n",
      "j\n",
      "a\n"
     ]
    }
   ],
   "source": [
    "msg=\"Tanuja\"\n",
    "for item in msg:\n",
    "    print(item)"
   ]
  },
  {
   "cell_type": "code",
   "execution_count": 36,
   "metadata": {},
   "outputs": [
    {
     "name": "stdout",
     "output_type": "stream",
     "text": [
      "['2', '3', '4', '7']\n",
      "16\n"
     ]
    }
   ],
   "source": [
    "numbers=\"2,3,4,7\"\n",
    "nos = numbers.split(',')\n",
    "s=0\n",
    "print(nos)\n",
    "for item in nos:\n",
    "    temp=int(item)\n",
    "    s=s+temp\n",
    "print(s)\n",
    "    "
   ]
  },
  {
   "cell_type": "code",
   "execution_count": 37,
   "metadata": {},
   "outputs": [
    {
     "name": "stdout",
     "output_type": "stream",
     "text": [
      "Your name is tanu and you are from msds\n"
     ]
    }
   ],
   "source": [
    "name=input(\"Name:\")\n",
    "u_class=input(\"Class:\")\n",
    "print(\"Your name is {} and you are from {}\".format(name,u_class))"
   ]
  },
  {
   "cell_type": "code",
   "execution_count": 38,
   "metadata": {},
   "outputs": [
    {
     "name": "stdout",
     "output_type": "stream",
     "text": [
      "0\n",
      "2\n",
      "4\n",
      "6\n",
      "8\n",
      "10\n",
      "Sum= 30\n"
     ]
    }
   ],
   "source": [
    "n=int(input(\"enter the  number:\"))\n",
    "s=0\n",
    "for i in range(0,n,2):\n",
    "    print(i)\n",
    "    s=s+i\n",
    "print(\"Sum=\",s)"
   ]
  },
  {
   "cell_type": "code",
   "execution_count": 41,
   "metadata": {},
   "outputs": [
    {
     "name": "stdout",
     "output_type": "stream",
     "text": [
      "2.9\n"
     ]
    }
   ],
   "source": [
    "list=(\"hello\",2,2.9)\n",
    "print(list[2])"
   ]
  },
  {
   "cell_type": "code",
   "execution_count": null,
   "metadata": {},
   "outputs": [],
   "source": []
  }
 ],
 "metadata": {
  "kernelspec": {
   "display_name": "Python 3",
   "language": "python",
   "name": "python3"
  },
  "language_info": {
   "codemirror_mode": {
    "name": "ipython",
    "version": 3
   },
   "file_extension": ".py",
   "mimetype": "text/x-python",
   "name": "python",
   "nbconvert_exporter": "python",
   "pygments_lexer": "ipython3",
   "version": "3.11.4"
  },
  "orig_nbformat": 4
 },
 "nbformat": 4,
 "nbformat_minor": 2
}
