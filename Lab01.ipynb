{
 "cells": [
  {
   "cell_type": "markdown",
   "metadata": {},
   "source": [
    "write a program to print a name \"n\" times where name and \"n\" will be user input"
   ]
  },
  {
   "cell_type": "code",
<<<<<<< HEAD
   "execution_count": 5,
=======
   "execution_count": 3,
>>>>>>> e7a38906c868c0d1463751295bd61ef2b8583bd0
   "metadata": {},
   "outputs": [
    {
     "name": "stdout",
     "output_type": "stream",
     "text": [
<<<<<<< HEAD
      "tanutanutanutanu\n"
=======
      "tanutanutanutanutanu\n"
>>>>>>> e7a38906c868c0d1463751295bd61ef2b8583bd0
     ]
    }
   ],
   "source": [
<<<<<<< HEAD
    "name = input(\"enter a name\")\n",
    "n = int(input(\"enter number\"))\n",
    "print (name+ * n)"
   ]
=======
    "name = input(\"Enter the name\")\n",
    "n = int(input(\"Enter the number\"))\n",
    "print(name*n)\n",
    "\n"
   ]
  },
  {
   "cell_type": "code",
   "execution_count": null,
   "metadata": {},
   "outputs": [],
   "source": []
>>>>>>> e7a38906c868c0d1463751295bd61ef2b8583bd0
  }
 ],
 "metadata": {
  "kernelspec": {
   "display_name": "Python 3",
   "language": "python",
   "name": "python3"
  },
  "language_info": {
   "codemirror_mode": {
    "name": "ipython",
    "version": 3
   },
   "file_extension": ".py",
   "mimetype": "text/x-python",
   "name": "python",
   "nbconvert_exporter": "python",
   "pygments_lexer": "ipython3",
   "version": "3.11.4"
  },
  "orig_nbformat": 4
 },
 "nbformat": 4,
 "nbformat_minor": 2
}
