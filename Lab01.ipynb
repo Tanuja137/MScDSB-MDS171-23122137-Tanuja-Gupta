{
 "cells": [
  {
   "cell_type": "markdown",
   "metadata": {},
   "source": [
    "write a program to print a name \"n\" times where name and \"n\" will be user input"
   ]
  },
  {
   "cell_type": "code",
   "execution_count": 5,
   "metadata": {},
   "outputs": [
    {
     "name": "stdout",
     "output_type": "stream",
     "text": [
      "tanutanutanutanu\n"
     ]
    }
   ],
   "source": [
    "name = input(\"enter a name\")\n",
    "n = int(input(\"enter number\"))\n",
    "print (name+ * n)"
   ]
  }
 ],
 "metadata": {
  "kernelspec": {
   "display_name": "Python 3",
   "language": "python",
   "name": "python3"
  },
  "language_info": {
   "codemirror_mode": {
    "name": "ipython",
    "version": 3
   },
   "file_extension": ".py",
   "mimetype": "text/x-python",
   "name": "python",
   "nbconvert_exporter": "python",
   "pygments_lexer": "ipython3",
   "version": "3.11.4"
  },
  "orig_nbformat": 4
 },
 "nbformat": 4,
 "nbformat_minor": 2
}
