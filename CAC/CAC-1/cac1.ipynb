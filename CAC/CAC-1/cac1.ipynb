{
 "cells": [
  {
   "cell_type": "code",
   "execution_count": 1,
   "metadata": {},
   "outputs": [
    {
     "name": "stdout",
     "output_type": "stream",
     "text": [
      "Welcome to the Weather Forecasting Program!\n",
      "\n",
      "Day\tWeather\t\tTemperature (°C)\n",
      "1\tSunny\t32.0\n",
      "2\tCloudy\t22.0\n",
      "3\tRainy\t15.0\n",
      "4\tCloudy\t21.8\n",
      "5\tRainy\t16.9\n",
      "6\tRainy\t15.5\n",
      "7\tSunny\t28.8\n",
      "8\tSunny\t30.8\n",
      "9\tCloudy\t25.3\n",
      "10\tCloudy\t21.7\n",
      "11\tCloudy\t25.3\n",
      "12\tSnowy\t4.8\n"
     ]
    }
   ],
   "source": [
    "import random\n",
    "\n",
    "weather_conditions = {\n",
    "    \"Sunny\": (27, 35),\n",
    "    \"Cloudy\": (20, 26),\n",
    "    \"Rainy\": (10, 19),\n",
    "    \"Snowy\": (-10, 9)\n",
    "}\n",
    "\n",
    "def get_random_weather():\n",
    "    weather = random.choice(list(weather_conditions.keys()))\n",
    "    temperature_range = weather_conditions[weather]\n",
    "    temperature = round(random.uniform(temperature_range[0], temperature_range[1]), 1)\n",
    "    return weather, temperature\n",
    "\n",
    "def generate_weather_forecast(days):\n",
    "    forecast = []\n",
    "    for day in range(1, days + 1):\n",
    "        weather, temperature = get_random_weather()\n",
    "        forecast.append((day, weather, temperature))\n",
    "    return forecast\n",
    "\n",
    "def display_forecast(forecast):\n",
    "    print(\"Day\\tWeather\\t\\tTemperature (°C)\")\n",
    "    for day, weather, temperature in forecast:\n",
    "        print(f\"{day}\\t{weather}\\t{temperature}\")\n",
    "\n",
    "def main():\n",
    "    print(\"Welcome to the Weather Forecasting Program!\\n\")\n",
    "    \n",
    "    days = int(input(\"Enter the number of days for the forecast: \"))\n",
    "    \n",
    "    if days <= 0:\n",
    "        print(\"Invalid input. Please enter a positive number of days.\")\n",
    "        return\n",
    "    \n",
    "    weather_forecast = generate_weather_forecast(days)\n",
    "    display_forecast(weather_forecast)\n",
    "\n",
    "if __name__ == \"__main__\":\n",
    "    main()"
   ]
  },
  {
   "cell_type": "code",
   "execution_count": null,
   "metadata": {},
   "outputs": [],
   "source": []
  }
 ],
 "metadata": {
  "kernelspec": {
   "display_name": "Python 3",
   "language": "python",
   "name": "python3"
  },
  "language_info": {
   "codemirror_mode": {
    "name": "ipython",
    "version": 3
   },
   "file_extension": ".py",
   "mimetype": "text/x-python",
   "name": "python",
   "nbconvert_exporter": "python",
   "pygments_lexer": "ipython3",
   "version": "3.11.4"
  },
  "orig_nbformat": 4
 },
 "nbformat": 4,
 "nbformat_minor": 2
}
