{
 "cells": [
  {
   "cell_type": "code",
   "execution_count": 5,
   "metadata": {},
   "outputs": [],
   "source": [
    "def GMS(customer_name , order_date , order , rate , amount , guest_count):\n",
    "    file = open(\"GMS.txt\", \"a+\")\n",
    "    file.write(\"\\nName = \"+customer_name)\n",
    "    file.write(\"\\nDate = \"+order_date)\n",
    "    file.write(\"\\nItem Code = \"+order)\n",
    "    file.write(\"\\nQuantity = \"+str(amount))\n",
    "    file.write(\"\\nRate = \"+str(rate))\n",
    "    file.write(\"\\nGuest_Count = \"+guest_count)\n",
    "    file.write(\"\\n-----------------------------------------------------------------------------------------------------------\")\n",
    "    file.close()\n",
    "    return True"
   ]
  },
  {
   "cell_type": "code",
   "execution_count": 4,
   "metadata": {},
   "outputs": [
    {
     "data": {
      "text/plain": [
       "True"
      ]
     },
     "execution_count": 4,
     "metadata": {},
     "output_type": "execute_result"
    }
   ],
   "source": [
    "customer_name = input(\"Enter the Name here: \")\n",
    "order_date = input(\"Enter the date: \")\n",
    "order = input(\"Enter the item here: \")\n",
    "first_rate = int(input(\"Enter the rate of the item: \"))\n",
    "amount = int(input(\"Enter the quantity of the item\"))\n",
    "guest_count = input(\"Enter the Guest Count: \")\n",
    "rate=first_rate*amount\n",
    "GMS(customer_name , order_date , order , rate , amount , guest_count)"
   ]
  },
  {
   "cell_type": "code",
   "execution_count": 6,
   "metadata": {},
   "outputs": [
    {
     "name": "stdout",
     "output_type": "stream",
     "text": [
      "Full amount in a day =  450\n"
     ]
    }
   ],
   "source": [
    "#analysis\n",
    "salescount = 0\n",
    "with open(\"GMS.txt\" , \"r+\") as file :\n",
    "    for line in file:\n",
    "        if \"Rate\" in line:\n",
    "            \n",
    "            Rate = int(line.split(\"=\")[1].strip())\n",
    "            salescount += Rate\n",
    "print(\"Full amount in a day = \" , salescount)\n",
    "    # print(\"The total amount of guests per day: \" , salescount)"
   ]
  },
  {
   "cell_type": "code",
   "execution_count": 8,
   "metadata": {},
   "outputs": [
    {
     "name": "stdout",
     "output_type": "stream",
     "text": [
      "The total Guest obtained in this day =  3\n"
     ]
    }
   ],
   "source": [
    "#analysis\n",
    "salescount = 0\n",
    "with open(\"GMS.txt\" , \"r+\") as file :\n",
    "    for line in file:\n",
    "        if \"Guest_Count\" in line:\n",
    "            \n",
    "            Rate = int(line.split(\"=\")[1].strip())\n",
    "            salescount += Rate\n",
    "print(\"The total Guest obtained in this day = \" , salescount)\n",
    "    # print(\"The total amount of guests per day: \" , salescount)"
   ]
  },
  {
   "cell_type": "code",
   "execution_count": null,
   "metadata": {},
   "outputs": [],
   "source": []
  }
 ],
 "metadata": {
  "kernelspec": {
   "display_name": "Python 3",
   "language": "python",
   "name": "python3"
  },
  "language_info": {
   "codemirror_mode": {
    "name": "ipython",
    "version": 3
   },
   "file_extension": ".py",
   "mimetype": "text/x-python",
   "name": "python",
   "nbconvert_exporter": "python",
   "pygments_lexer": "ipython3",
   "version": "3.11.4"
  },
  "orig_nbformat": 4
 },
 "nbformat": 4,
 "nbformat_minor": 2
}
