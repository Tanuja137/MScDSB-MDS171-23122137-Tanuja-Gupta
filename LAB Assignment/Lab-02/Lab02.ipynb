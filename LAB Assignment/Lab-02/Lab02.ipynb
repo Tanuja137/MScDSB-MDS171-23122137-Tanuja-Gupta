{
 "cells": [
  {
   "cell_type": "code",
   "execution_count": 12,
   "metadata": {},
   "outputs": [
    {
     "name": "stdout",
     "output_type": "stream",
     "text": [
      "56 fivesix\n"
     ]
    }
   ],
   "source": [
    "numwords=[\n",
    "    'zero',\n",
    "    'one',\n",
    "    'two',\n",
    "    'three',\n",
    "    'four',\n",
    "    'five',\n",
    "    'six',\n",
    "    'seven',\n",
    "    'eight',\n",
    "    'nine'\n",
    "]\n",
    "\n",
    "def findnum(numwords,user):\n",
    "    str_user=str(user)\n",
    "    new_val=\"\"\n",
    "    for i in str_user:\n",
    "        digit=int(i)\n",
    "        new_val+=numwords[digit]\n",
    "    return new_val\n",
    "user_input=int(input(\"Enter the number: \"))\n",
    "result=findnum(numwords,user_input)\n",
    "print(user_input,result)"
   ]
  },
  {
   "cell_type": "code",
   "execution_count": null,
   "metadata": {},
   "outputs": [],
   "source": []
  }
 ],
 "metadata": {
  "kernelspec": {
   "display_name": "Python 3",
   "language": "python",
   "name": "python3"
  },
  "language_info": {
   "codemirror_mode": {
    "name": "ipython",
    "version": 3
   },
   "file_extension": ".py",
   "mimetype": "text/x-python",
   "name": "python",
   "nbconvert_exporter": "python",
   "pygments_lexer": "ipython3",
   "version": "3.11.4"
  },
  "orig_nbformat": 4
 },
 "nbformat": 4,
 "nbformat_minor": 2
}
