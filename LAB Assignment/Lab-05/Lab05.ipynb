{
 "cells": [
  {
   "cell_type": "code",
   "execution_count": 10,
   "metadata": {},
   "outputs": [
    {
     "name": "stdout",
     "output_type": "stream",
     "text": [
      "Total no of vowel is: 5\n",
      "Total no of 'a'is: 3\n",
      "Total no of 'e'is: 0\n",
      "Total no of 'i'is: 0\n",
      "Total no of 'o'is: 0\n",
      "Total no of 'u'is: 2\n",
      "Percentage of vowels: 41.66666666666667\n"
     ]
    }
   ],
   "source": [
    "#function to count vowels in a given string\n",
    "def count_vowels(input_string):\n",
    "    input_string=input_string.lower()\n",
    "    \n",
    "    count_a=0\n",
    "    count_e=0\n",
    "    count_i=0\n",
    "    count_o=0\n",
    "    count_u=0\n",
    "\n",
    "    for x in input_string:\n",
    "        #to check the character is vowel and update the count of a vowel\n",
    "        if x=='a':\n",
    "            count_a+=1\n",
    "        elif x=='e':\n",
    "            count_e+=1\n",
    "        elif x=='i':\n",
    "            count_i+=1\n",
    "        elif x=='o':\n",
    "            count_o+=1\n",
    "        elif x=='u':\n",
    "            count_u+=1\n",
    "    count = count_a+count_e+count_i+count_o+count_u                       #total no of vowels in a string represented by count\n",
    "    percentage=(count/len(input_string))*100                              #percentage of vowels in a string \n",
    "    return count_a,count_e,count_i,count_o,count_u,count,percentage\n",
    "#getting input from the user\n",
    "user_input=input(\"Enter a string:\")\n",
    "a,e,i,o,u,vowel,p=count_vowels(user_input)\n",
    "#printing the results\n",
    "print(\"Total no of vowel is:\",vowel)\n",
    "print(\"Total no of 'a'is:\",a)\n",
    "print(\"Total no of 'e'is:\",e)\n",
    "print(\"Total no of 'i'is:\",i)\n",
    "print(\"Total no of 'o'is:\",o)\n",
    "print(\"Total no of 'u'is:\",u)\n",
    "print(\"Percentage of vowels:\",p)\n",
    "\n",
    "\n",
    "\n",
    "\n",
    "\n",
    "\n",
    "\n"
   ]
  },
  {
   "cell_type": "code",
   "execution_count": null,
   "metadata": {},
   "outputs": [],
   "source": []
  }
 ],
 "metadata": {
  "kernelspec": {
   "display_name": "Python 3",
   "language": "python",
   "name": "python3"
  },
  "language_info": {
   "codemirror_mode": {
    "name": "ipython",
    "version": 3
   },
   "file_extension": ".py",
   "mimetype": "text/x-python",
   "name": "python",
   "nbconvert_exporter": "python",
   "pygments_lexer": "ipython3",
   "version": "3.11.4"
  },
  "orig_nbformat": 4
 },
 "nbformat": 4,
 "nbformat_minor": 2
}
