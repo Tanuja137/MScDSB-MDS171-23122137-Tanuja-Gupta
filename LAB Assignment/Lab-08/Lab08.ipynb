{
 "cells": [
  {
   "cell_type": "code",
   "execution_count": 10,
   "metadata": {},
   "outputs": [],
   "source": [
    "class Stack:\n",
    "    def _init_(self):\n",
    "        self.stack=[]\n",
    "    def pushitem(self,item):\n",
    "        self.stack.append(item)\n",
    "    def popitem(self):\n",
    "        return self.stack.pop()\n",
    "    def viewstack(self):\n",
    "        for item in self.stack:\n",
    "            print(item)\n",
    "    def size(self):\n",
    "        print(len(self.stack))\n",
    "    def topstack(self):\n",
    "        print(len(self.stack[-1]))\n",
    "    def isEmpty(self):\n",
    "        if self.stack==[]:\n",
    "            print(\"The Stack Is empty\")\n",
    "        else:\n",
    "            print(\"The Stack is Not empty\")\n",
    "    def Menu (self):\n",
    "        while True:\n",
    "            print(\"Menu Options\")\n",
    "            print(\"************\")\n",
    "            print(\"1 PushItem\")\n",
    "            print(\"2 PopItem\")\n",
    "            print(\"3 View Full Stack\")\n",
    "            print(\"4 Size of the stack\")\n",
    "            print(\"5 View the top Element of the stack\")\n",
    "            print(\"6 to check the stack is empty or not\")\n",
    "            print(\"7 Exit \")\n",
    "            print(\"************\")\n",
    "            choice=int(input(\"Enter your choice: \"))\n",
    "            if choice== 1:\n",
    "                item=int(input(\"Enter: \"))\n",
    "                self.pushitem(item)\n",
    "            elif choice== 2:\n",
    "                self.popitem()\n",
    "            elif choice== 3:\n",
    "                self.viewstack()\n",
    "            elif choice== 4:\n",
    "                self.size()\n",
    "            elif choice== 5:\n",
    "                self.topstack()\n",
    "            elif choice== 6:\n",
    "                self.isEmpty()\n",
    "            elif choice== 7:\n",
    "                print(\"Thank You\")\n",
    "                break\n",
    "            else:\n",
    "                print(\"Chose a Valid Output\")\n",
    "                "
   ]
  },
  {
   "cell_type": "code",
   "execution_count": null,
   "metadata": {},
   "outputs": [],
   "source": []
  }
 ],
 "metadata": {
  "kernelspec": {
   "display_name": "Python 3",
   "language": "python",
   "name": "python3"
  },
  "language_info": {
   "codemirror_mode": {
    "name": "ipython",
    "version": 3
   },
   "file_extension": ".py",
   "mimetype": "text/x-python",
   "name": "python",
   "nbconvert_exporter": "python",
   "pygments_lexer": "ipython3",
   "version": "3.11.4"
  },
  "orig_nbformat": 4
 },
 "nbformat": 4,
 "nbformat_minor": 2
}
