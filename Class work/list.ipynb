{
 "cells": [
  {
   "cell_type": "code",
   "execution_count": 7,
   "metadata": {},
   "outputs": [
    {
     "name": "stdout",
     "output_type": "stream",
     "text": [
      "['one', 'two', 'three', 'four', 'five']\n"
     ]
    }
   ],
   "source": [
    "listex=[\"one\",\"two\",\"three\",\"four\"]\n",
    "listex.append(\"five\")\n",
    "print(listex)"
   ]
  },
  {
   "cell_type": "code",
   "execution_count": 8,
   "metadata": {},
   "outputs": [
    {
     "name": "stdout",
     "output_type": "stream",
     "text": [
      "None\n"
     ]
    }
   ],
   "source": [
    "print(listex.sort())"
   ]
  },
  {
   "cell_type": "code",
   "execution_count": 2,
   "metadata": {},
   "outputs": [
    {
     "ename": "NameError",
     "evalue": "name 'sort' is not defined",
     "output_type": "error",
     "traceback": [
      "\u001b[1;31m---------------------------------------------------------------------------\u001b[0m",
      "\u001b[1;31mNameError\u001b[0m                                 Traceback (most recent call last)",
      "Cell \u001b[1;32mIn[2], line 1\u001b[0m\n\u001b[1;32m----> 1\u001b[0m sort()[\u001b[39mreversed\u001b[39m]\n",
      "\u001b[1;31mNameError\u001b[0m: name 'sort' is not defined"
     ]
    }
   ],
   "source": [
    "sort()[reversed]"
   ]
  },
  {
   "cell_type": "code",
   "execution_count": 3,
   "metadata": {},
   "outputs": [
    {
     "ename": "SyntaxError",
     "evalue": "invalid syntax (4191320212.py, line 1)",
     "output_type": "error",
     "traceback": [
      "\u001b[1;36m  Cell \u001b[1;32mIn[3], line 1\u001b[1;36m\u001b[0m\n\u001b[1;33m    sort()reversed()\u001b[0m\n\u001b[1;37m          ^\u001b[0m\n\u001b[1;31mSyntaxError\u001b[0m\u001b[1;31m:\u001b[0m invalid syntax\n"
     ]
    }
   ],
   "source": [
    ",sort()reversed()"
   ]
  },
  {
   "cell_type": "code",
   "execution_count": 9,
   "metadata": {},
   "outputs": [
    {
     "name": "stdout",
     "output_type": "stream",
     "text": [
      "[5, 5, 78, 1, 65, 99]\n"
     ]
    }
   ],
   "source": [
    "a=[5,5,78,1,65,99]\n",
    "print(a)\n"
   ]
  },
  {
   "cell_type": "code",
   "execution_count": 11,
   "metadata": {},
   "outputs": [
    {
     "data": {
      "text/plain": [
       "[1, 5, 5, 65, 78, 99]"
      ]
     },
     "execution_count": 11,
     "metadata": {},
     "output_type": "execute_result"
    }
   ],
   "source": [
    "a.sort()\n",
    "a"
   ]
  },
  {
   "cell_type": "code",
   "execution_count": 14,
   "metadata": {},
   "outputs": [],
   "source": [
    "def tanuja():\n",
    "    print(\"i am your student\")\n",
    "    gupta = \"success\"\n",
    "    return gupta\n"
   ]
  },
  {
   "cell_type": "code",
   "execution_count": 15,
   "metadata": {},
   "outputs": [
    {
     "name": "stdout",
     "output_type": "stream",
     "text": [
      "i am your student\n"
     ]
    },
    {
     "data": {
      "text/plain": [
       "'success'"
      ]
     },
     "execution_count": 15,
     "metadata": {},
     "output_type": "execute_result"
    }
   ],
   "source": [
    "tanuja()"
   ]
  },
  {
   "cell_type": "code",
   "execution_count": 16,
   "metadata": {},
   "outputs": [
    {
     "name": "stdout",
     "output_type": "stream",
     "text": [
      "i am your student\n",
      "success\n"
     ]
    }
   ],
   "source": [
    "status=tanuja()\n",
    "print(status)"
   ]
  },
  {
   "cell_type": "code",
   "execution_count": 11,
   "metadata": {},
   "outputs": [
    {
     "name": "stdout",
     "output_type": "stream",
     "text": [
      "19\n",
      "21\n"
     ]
    }
   ],
   "source": [
    "def add(numbers):\n",
    "    sum=0\n",
    "    for x in numbers:\n",
    "        sum+=x\n",
    "    return sum\n",
    "print(add([2,5,8,4]))\n",
    "print(add([4,6,8,3]))\n"
   ]
  },
  {
   "cell_type": "code",
   "execution_count": 3,
   "metadata": {},
   "outputs": [
    {
     "name": "stdout",
     "output_type": "stream",
     "text": [
      "5\n"
     ]
    },
    {
     "data": {
      "text/plain": [
       "''"
      ]
     },
     "execution_count": 3,
     "metadata": {},
     "output_type": "execute_result"
    }
   ],
   "source": [
    "def add(lst):\n",
    "    sum=0\n",
    "    for x in lst:\n",
    "        sum = sum + int(x)\n",
    "    return sum\n",
    "numbers=input(\"enter the numbers\")\n",
    "num = numbers.split(\",\")\n",
    "a = add(num)\n",
    "print(a)\n",
    "\n",
    "\n",
    "\n",
    "\n",
    "\n",
    "\n",
    "\"\""
   ]
  },
  {
   "cell_type": "code",
   "execution_count": 6,
   "metadata": {},
   "outputs": [
    {
     "name": "stdout",
     "output_type": "stream",
     "text": [
      "Sum= 8\n"
     ]
    }
   ],
   "source": [
    "userinput=input(\"Enter a list  of numbers sepersted via coma\")\n",
    "#2,3,5,8\n",
    "array=userinput.strip().split(\",\")\n",
    "#[\"2\",\"3\",\"5\",\"8\"]\n",
    "sum=add(array)\n",
    "print(\"Sum=\",sum)"
   ]
  },
  {
   "cell_type": "markdown",
   "metadata": {},
   "source": [
    "count the number odd and even numbers in the list and print the odd numbers count &even numbers count along with the numbers"
   ]
  },
  {
   "cell_type": "markdown",
   "metadata": {},
   "source": [
    "you will have a function that will take a list of numbers, then return the count                                                             "
   ]
  },
  {
   "cell_type": "code",
   "execution_count": 15,
   "metadata": {},
   "outputs": [
    {
     "name": "stdout",
     "output_type": "stream",
     "text": [
      "Number of odd numbers: 5\n",
      "Number of even numbers: 5\n",
      "odd_numbers [1, 3, 5, 7, 9]\n",
      "even_numbers [2, 4, 6, 8, 10]\n"
     ]
    }
   ],
   "source": [
    "def count_odd_even(numbers):\n",
    "  odd_count = 0\n",
    "  even_count = 0\n",
    "  odd_numbers = []\n",
    "  even_numbers = []\n",
    "  for num in numbers:\n",
    "    if num % 2 == 1:\n",
    "      odd_count += 1\n",
    "      odd_numbers.append(num)\n",
    "    else:\n",
    "      even_count += 1\n",
    "      even_numbers.append(num)\n",
    "  return odd_count, even_count, odd_numbers, even_numbers\n",
    "\n",
    "\n",
    "numbers = [1, 2, 3, 4, 5, 6, 7, 8, 9, 10]\n",
    "odd_count, even_count,odd_numbers,even_numbers = count_odd_even(numbers)\n",
    "\n",
    "print(\"Number of odd numbers:\", odd_count)\n",
    "print(\"Number of even numbers:\", even_count)\n",
    "print(\"odd_numbers\", odd_numbers)\n",
    "print(\"even_numbers\", even_numbers)"
   ]
  },
  {
   "cell_type": "code",
   "execution_count": null,
   "metadata": {},
   "outputs": [],
   "source": [
    "def odd_even_count(numbers):\n",
    "    odd_count=0\n",
    "    even_count=0\n",
    "    odd_numbers=[]\n",
    "    even_numbers=[]\n",
    "    for i in numbers:\n",
    "        if i % 2==0:\n",
    "            even_count+=1\n",
    "            even_numbers.append(num)\n",
    "        else:\n",
    "            odd_count+=1\n",
    "            odd_numbers.append(num)\n",
    "    return even_count,odd_count,even_numbers,odd_numbers\n",
    "\n"
   ]
  },
  {
   "cell_type": "markdown",
   "metadata": {},
   "source": []
  }
 ],
 "metadata": {
  "kernelspec": {
   "display_name": "Python 3",
   "language": "python",
   "name": "python3"
  },
  "language_info": {
   "codemirror_mode": {
    "name": "ipython",
    "version": 3
   },
   "file_extension": ".py",
   "mimetype": "text/x-python",
   "name": "python",
   "nbconvert_exporter": "python",
   "pygments_lexer": "ipython3",
   "version": "3.11.4"
  },
  "orig_nbformat": 4
 },
 "nbformat": 4,
 "nbformat_minor": 2
}
